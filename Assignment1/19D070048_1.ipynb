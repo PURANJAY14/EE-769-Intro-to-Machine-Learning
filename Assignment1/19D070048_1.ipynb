{
  "cells": [
    {
      "cell_type": "markdown",
      "metadata": {
        "id": "K2kH3PqcUqK_"
      },
      "source": [
        "#**EE769 Introduction to Machine Learning**\n",
        "\n",
        "#Assignment 1: Gradient Descent, Linear Regression, and Regularization\n",
        "\n",
        "\n",
        "**Template and Instructions**\n",
        "\n",
        "\n",
        "\n",
        "1. Up to two people can team up, but only one should submit, and both should understand the entire code.\n",
        "2. Every line of code should end in a comment explaining the line\n",
        "3. It is recommended to solve the assignment in Google Colab.\n",
        "Write your roll no.s separated by commas here: 19D070048\n",
        "4. Write your names here:Puranjay Datta \n",
        "5. There are two parts to the assignment. In the Part 1, the code format has to be strictly followed to enable auto-grading. In the second part, you can be creative.\n",
        "6. **You can discuss with other groups or refer to the internet without being penalized, but you cannot copy their code and modify it. Write every line of code and comment on your own.**"
      ]
    },
    {
      "cell_type": "markdown",
      "metadata": {
        "id": "snavikh3UqLC"
      },
      "source": [
        "#**Part 1 begins ...**\n",
        "**Instructions to be strictly followed:**\n",
        "\n",
        "1. Do not add any code cells or markdown cells until the end of this part. Especially, do not change the blocks that say \"TEST CASES, DO NOT CHANGE\"\n",
        "2. In all other cells only add code where it says \"CODE HERE\".\n",
        "3. If you encounter any raise NotImplementedError() calls you may comment them out.\n",
        "\n",
        "We cannot ensure correct grading if you change anything else, and you may be penalised for not following these instructions."
      ]
    },
    {
      "cell_type": "markdown",
      "metadata": {
        "id": "FTl2YmaVUqLC"
      },
      "source": [
        "## Import Statements"
      ]
    },
    {
      "cell_type": "code",
      "execution_count": 51,
      "metadata": {
        "id": "3pK2E5jQUqLD"
      },
      "outputs": [],
      "source": [
        "import numpy as np\n",
        "import pandas as pd\n",
        "from matplotlib import pyplot as plt\n"
      ]
    },
    {
      "cell_type": "markdown",
      "metadata": {
        "id": "lwuHgj2IUqLE"
      },
      "source": [
        "## Normalize function \n",
        "\n"
      ]
    },
    {
      "cell_type": "code",
      "execution_count": 52,
      "metadata": {
        "id": "md0OQ3ZCUqLE"
      },
      "outputs": [],
      "source": [
        "def Normalize(X): # Output should be a normalized data matrix of the same dimension\n",
        "    Y=np.zeros(np.shape(X))\n",
        "    if X.ndim==1 :\n",
        "      Y = (X-np.mean(X))/np.std(X)  #Handling 1D array\n",
        "    else :\n",
        "      \n",
        "      for col in range(0,len(X[0])):\n",
        "        Y[:,col] = (X[:,col]-np.mean(X[:,col]))/np.std(X[:,col])  # normalized matrix\n",
        "        \n",
        "    return Y\n",
        "    raise NotImplementedError()"
      ]
    },
    {
      "cell_type": "code",
      "execution_count": 53,
      "metadata": {
        "id": "nfo75Ga7UqLF"
      },
      "outputs": [],
      "source": [
        "'''\n",
        "TEST CASES, DO NOT CHANGE\n",
        "'''\n",
        "''' case 1 - 1 dimensional array'''\n",
        "#X=np.array([[1,2,3],[3,4,5],[7,8,9]])\n",
        "X1=np.array([1,2,3])\n",
        "np.testing.assert_array_almost_equal(Normalize(X1),np.array([-1.224,  0.      ,  1.224]),decimal=3)\n",
        "''' case 2 - 2 dimensional array'''\n",
        "X2=np.array([[4,7,6],[3,8,9],[5,11,10]])\n",
        "np.testing.assert_array_almost_equal(Normalize(X2),np.array([[ 0.  , -0.980581, -1.372813],[-1.224745, -0.392232,  0.392232],[ 1.224745,  1.372813,  0.980581]]))\n",
        "''' case 3 - 1 dimensional array with float'''\n",
        "X3=np.array([5.5,6.7,3.2,6.7])\n",
        "np.testing.assert_array_almost_equal(Normalize(X3),np.array([-0.017,  0.822, -1.627,  0.822]),decimal=3)"
      ]
    },
    {
      "cell_type": "markdown",
      "metadata": {
        "id": "88cOKcOIUqLG"
      },
      "source": [
        "## Prediction Function\n",
        "\n",
        "Given X and w, compute the predicted output. Do not forget to add 1's in X"
      ]
    },
    {
      "cell_type": "code",
      "execution_count": 54,
      "metadata": {
        "id": "LwfqvIrEUqLG"
      },
      "outputs": [],
      "source": [
        "def Prediction (X, w): # Output should be a prediction vector y\n",
        "    r=len(X)\n",
        "    X=np.c_[ X, np.ones(r)];  #Adding a column of 1's\n",
        "    return np.dot(X,w)\n",
        "    raise NotImplementedError()\n"
      ]
    },
    {
      "cell_type": "code",
      "execution_count": 55,
      "metadata": {
        "id": "hKVx10sXUqLH"
      },
      "outputs": [],
      "source": [
        "'''\n",
        "TEST CASES, DO NOT CHANGE\n",
        "'''\n",
        "''' case 1 - Known input output matrix and weights 1'''\n",
        "X1 = np.array([[3,2],[1,1]])\n",
        "w1 = np.array([2,1,1]) \n",
        "np.testing.assert_array_equal(Prediction(X1,w1),np.array([9,4]))\n"
      ]
    },
    {
      "cell_type": "markdown",
      "metadata": {
        "id": "0eRhnJ5FUqLH"
      },
      "source": [
        "## Loss Functions\n",
        "\n",
        "Code the four  loss functions:\n",
        "\n",
        "1. MSE loss is only for the error\n",
        "2. MAE loss is only for the error\n",
        "3. L2 loss is for MSE and L2 regularization, and can call MSE loss\n",
        "4. L1 loss is for MSE and L1 regularization, and can call MSE loss"
      ]
    },
    {
      "cell_type": "code",
      "execution_count": 56,
      "metadata": {
        "id": "RfZKlCI6UqLI"
      },
      "outputs": [],
      "source": [
        "def MSE_Loss (X, t, w, lamda =0): # Ouput should be a single number\n",
        "    return np.mean(np.square(Prediction(X, w)-t))   #MSE=(x1^2+x2^2+...xn^2)/n\n",
        "    raise NotImplementedError()"
      ]
    },
    {
      "cell_type": "code",
      "execution_count": 57,
      "metadata": {
        "id": "BNGr2K6XUqLI"
      },
      "outputs": [],
      "source": [
        "'''\n",
        "TEST CASES, DO NOT CHANGE\n",
        "'''\n",
        "''' case 1 '''\n",
        "X=np.array([[3,6,5],[4.5,6.6,6]])\n",
        "t=np.array([4,5.5])\n",
        "w=np.array([2,-1,0.5,1])\n",
        "np.testing.assert_almost_equal(MSE_Loss(X,t,w),0.53,decimal=3)\n"
      ]
    },
    {
      "cell_type": "code",
      "execution_count": 58,
      "metadata": {
        "id": "pyuE6UM_UqLJ"
      },
      "outputs": [],
      "source": [
        "def MAE_Loss (X, t, w, lamda = 0): # Output should be a single number\n",
        "    return np.mean(np.abs(Prediction(X, w)-t))  #MAE=(|x1|+|x2|+...|xn|)/n\n",
        "    raise NotImplementedError()"
      ]
    },
    {
      "cell_type": "code",
      "execution_count": 59,
      "metadata": {
        "id": "uXEukmAXUqLJ"
      },
      "outputs": [],
      "source": [
        "'''\n",
        "TEST CASES, DO NOT CHANGE\n",
        "'''\n",
        "''' case 1 '''\n",
        "X=np.array([[3,6,5],[4.5,6.6,6]])\n",
        "t=np.array([4,5.5])\n",
        "w=np.array([2,-1,0.5,1])\n",
        "np.testing.assert_almost_equal(MAE_Loss(X,t,w),0.700,decimal=3)\n"
      ]
    },
    {
      "cell_type": "code",
      "execution_count": 60,
      "metadata": {
        "id": "k9vdvdbOUqLJ"
      },
      "outputs": [],
      "source": [
        "def L2_Loss (X, t, w, lamda): # Output should be a single number based on L2-norm (with sqrt)\n",
        "    return  MSE_Loss(X,t,w)+lamda*np.linalg.norm(w[0:len(w)-1],ord=2)  #L2_Loss=MSE+ lamda*(w1^2+w2^2+...wn^2)^0.5\n",
        "    raise NotImplementedError()"
      ]
    },
    {
      "cell_type": "code",
      "execution_count": 61,
      "metadata": {
        "id": "RU-kx-iTUqLJ"
      },
      "outputs": [],
      "source": [
        "'''\n",
        "TEST CASES, DO NOT CHANGE\n",
        "'''\n",
        "''' case 1 '''\n",
        "X=np.array([[3,6,5],[4.5,6.6,6]])\n",
        "t=np.array([4,5.5])\n",
        "w=np.array([2,-1,0.5,1])\n",
        "np.testing.assert_almost_equal(L2_Loss(X,t,w,0.5),1.675,decimal=3)\n"
      ]
    },
    {
      "cell_type": "code",
      "execution_count": 62,
      "metadata": {
        "id": "UzZPcrgPUqLK"
      },
      "outputs": [],
      "source": [
        "def L1_Loss (X, t, w, lamda): # Output should be a single number\n",
        "    return MSE_Loss(X,t,w)+lamda*np.linalg.norm(w[0:len(w)-1],ord=1) #L1_Loss=MSE+lamda*(|w1|+|w2|+...|wn|)\n",
        "    raise NotImplementedError()"
      ]
    },
    {
      "cell_type": "code",
      "execution_count": 63,
      "metadata": {
        "id": "Nr92TaUzUqLK"
      },
      "outputs": [],
      "source": [
        "'''\n",
        "TEST CASES, DO NOT CHANGE\n",
        "'''\n",
        "''' case 1 '''\n",
        "X=np.array([[3,6,5],[4.5,6.6,6]])\n",
        "t=np.array([4,5.5])\n",
        "w=np.array([2,-1,0.5,1])\n",
        "np.testing.assert_almost_equal(L1_Loss(X,t,w,0.5),2.280,decimal=3)\n"
      ]
    },
    {
      "cell_type": "code",
      "execution_count": 64,
      "metadata": {
        "id": "_sLS4Z_xUqLK"
      },
      "outputs": [],
      "source": [
        "def NRMSE_Metric (X, t, w, lamda=0): # Output should be a single number. RMSE/std_dev(t)\n",
        "    return np.sqrt(MSE_Loss(X,t,w))/np.std(t);\n",
        "    raise NotImplementedError()"
      ]
    },
    {
      "cell_type": "code",
      "execution_count": 65,
      "metadata": {
        "id": "PMiwJ8JEUqLK"
      },
      "outputs": [],
      "source": [
        "'''\n",
        "TEST CASES, DO NOT CHANGE\n",
        "'''\n",
        "''' Test case 1 '''\n",
        "X=np.array([[3,6,5],[4.5,6.6,6]])\n",
        "t=np.array([4,5.5])\n",
        "w=np.array([2,-1,0.5,1])\n",
        "np.testing.assert_almost_equal(NRMSE_Metric(X,t,w,0.5),0.970,decimal=3)\n"
      ]
    },
    {
      "cell_type": "markdown",
      "metadata": {
        "id": "8Ig_nS3_UqLK"
      },
      "source": [
        "## Gradient function\n",
        "Each Loss function will have its own gradient function:\n",
        "\n",
        "1. MSE gradient is only for the error\n",
        "2. MAE gradient is only for the error\n",
        "3. L2 gradient is for MSE and L2 regularization, and can call MSE gradient\n",
        "4. L1 gradient is for MSE and L1 regularization, and can call MSE gradient"
      ]
    },
    {
      "cell_type": "code",
      "execution_count": 66,
      "metadata": {
        "id": "sXHyzauQUqLK"
      },
      "outputs": [],
      "source": [
        "def MSE_Gradient (X, t, w, lamda=0): # Output should have the same size as w\n",
        "    grad=np.zeros(len(w));#initialize \n",
        "    r=len(X)  #no. of rows of dataset\n",
        "    X_new=np.c_[ X, np.ones(r)];  #Adding the bias\n",
        "    for i in range(0,len(w)):\n",
        "        grad[i]=(-2/len(X_new))*np.dot((t-Prediction(X,w)),X_new[:,i]) #(-2/n)sum[(ti-wi.xi)xi]\n",
        "    return grad\n",
        "    raise NotImplementedError()"
      ]
    },
    {
      "cell_type": "code",
      "execution_count": 67,
      "metadata": {
        "id": "FSwqkfxgUqLL"
      },
      "outputs": [],
      "source": [
        "'''\n",
        "TEST CASES, DO NOT CHANGE\n",
        "'''\n",
        "''' case 1 '''\n",
        "X=np.array([[3,6,5],[4.5,6.6,6]])\n",
        "t=np.array([4,5.5])\n",
        "w=np.array([2,-1,0.5,1])\n",
        "np.testing.assert_array_almost_equal(MSE_Gradient(X,t,w),np.array([2.55, 2.94, 2.9 , 0.4 ]),decimal=3)\n"
      ]
    },
    {
      "cell_type": "code",
      "execution_count": 68,
      "metadata": {
        "id": "M_XmpS6tUqLL"
      },
      "outputs": [],
      "source": [
        "def MAE_Gradient (X, t, w, lamda=0): # Output should have the same size as w\n",
        "    grad=np.zeros(len(w));#initialize \n",
        "    r=len(X)   #no. of rows of dataset\n",
        "    X_new=np.c_[ X, np.ones(r)]; #Adding the bias\n",
        "    for i in range(0,len(w)):\n",
        "        grad[i]=(-1/len(X_new))*np.dot(np.sign((t-Prediction(X,w))),X_new[:,i])#(-1/n)sum[sign{(ti-wi.xi)}xi]\n",
        "    return grad\n",
        "    raise NotImplementedError()"
      ]
    },
    {
      "cell_type": "code",
      "execution_count": 69,
      "metadata": {
        "id": "dWqusL7MUqLL"
      },
      "outputs": [],
      "source": [
        "'''\n",
        "TEST CASES, DO NOT CHANGE\n",
        "'''\n",
        "''' case 1 '''\n",
        "X=np.array([[3,6,5],[4.5,6.6,6]])\n",
        "t=np.array([4,5.5])\n",
        "w=np.array([2,-1,0.5,1])\n",
        "np.testing.assert_array_almost_equal(MAE_Gradient(X,t,w),np.array([0.75,  0.3 ,  0.5 , 0.]),decimal=3)\n"
      ]
    },
    {
      "cell_type": "code",
      "execution_count": 70,
      "metadata": {
        "id": "vpsrEdJCUqLL"
      },
      "outputs": [],
      "source": [
        "def L2_Gradient (X, t, w, lamda): # Output should have the same size as w\n",
        "    grad=np.zeros(len(w)); #initialize\n",
        "    for i in range(0,len(w)-1):\n",
        "      grad[i]=(lamda*w[i]/np.linalg.norm(w[0:len(w)-1],ord=2))  #MSE gradient + sum[lamda*wi/Norm_without_bias]\n",
        "    \n",
        "    return grad+MSE_Gradient(X,t,w)\n",
        "    raise NotImplementedError()"
      ]
    },
    {
      "cell_type": "code",
      "execution_count": 71,
      "metadata": {
        "id": "njz2eT4OUqLL"
      },
      "outputs": [],
      "source": [
        "'''\n",
        "TEST CASES, DO NOT CHANGE\n",
        "'''\n",
        "''' case 1 '''\n",
        "X=np.array([[3,6,5],[4.5,6.6,6]])\n",
        "t=np.array([4,5.5])\n",
        "w=np.array([2,-1,0.5,1])\n",
        "np.testing.assert_array_almost_equal(L2_Gradient(X,t,w,0.5),np.array([2.986, 2.721, 3.009 , 0.4 ]),decimal=3)\n"
      ]
    },
    {
      "cell_type": "code",
      "execution_count": 72,
      "metadata": {
        "id": "jR3SiTojUqLL"
      },
      "outputs": [],
      "source": [
        "def L1_Gradient (X, t, w, lamda): # Output should have the same size as w\n",
        "    grad=np.zeros(len(w));#initialize\n",
        "    for i in range(0,len(w)-1):\n",
        "        grad[i]=(lamda*np.sign(w[i]))  #MSE gradient + sum[lamda*sign(wi)]\n",
        "        \n",
        "    return grad+MSE_Gradient(X,t,w)\n",
        "    raise NotImplementedError()"
      ]
    },
    {
      "cell_type": "code",
      "execution_count": 73,
      "metadata": {
        "id": "iZpy23dYUqLL"
      },
      "outputs": [],
      "source": [
        "'''\n",
        "TEST CASES, DO NOT CHANGE\n",
        "'''\n",
        "''' case 1 '''\n",
        "X=np.array([[3,6,5],[4.5,6.6,6]])\n",
        "t=np.array([4,5.5])\n",
        "w=np.array([2,-1,0.5,1])\n",
        "np.testing.assert_array_almost_equal(L1_Gradient(X,t,w,0.5),np.array([3.05, 2.44, 3.4 , 0.4 ]),decimal=3)\n"
      ]
    },
    {
      "cell_type": "markdown",
      "metadata": {
        "id": "RtTof_bfUqLM"
      },
      "source": [
        "## Gradient Descent Function\n"
      ]
    },
    {
      "cell_type": "code",
      "execution_count": 74,
      "metadata": {
        "id": "MuxDOS78UqLM"
      },
      "outputs": [],
      "source": [
        "def Gradient_Descent (X, X_val, t, t_val, w, lamda, max_iter, epsilon, lr, lossfunc, gradfunc): # See output format in 'return' statement\n",
        "    previous_loss = None\n",
        "    current_loss=None\n",
        "  \n",
        "    for i in range(0,max_iter):\n",
        "             \n",
        "        # Calculationg the current cost\n",
        "        current_loss = lossfunc(X,t,w,lamda)\n",
        "        #Calculating gradient\n",
        "        grad_w=gradfunc(X,t,w,lamda)\n",
        "        #Calculating the updated weights\n",
        "        w=w-lr*grad_w\n",
        "        if previous_loss and abs(previous_loss-current_loss)<epsilon:  # if difference between current and previous error is less than eps then stop iteration\n",
        "            break\n",
        "         \n",
        "        previous_loss = current_loss\n",
        "        \n",
        "    \n",
        "    train_loss_final=lossfunc(X,t,w,lamda)\n",
        "    validation_loss_final=lossfunc(X_val,t_val,w,lamda)\n",
        "    validation_NRMSE=NRMSE_Metric(X_val,t_val,w)\n",
        "    return w, train_loss_final, validation_loss_final, validation_NRMSE #You should return variables structured like this\n",
        "    "
      ]
    },
    {
      "cell_type": "code",
      "execution_count": 75,
      "metadata": {
        "id": "jhPNx4uAUqLM"
      },
      "outputs": [],
      "source": [
        "'''\n",
        "TEST CASES, DO NOT CHANGE\n",
        "'''\n",
        "X=np.array([[23,24],[1,2]])\n",
        "t=np.array([4,5])\n",
        "X_val=np.array([[3,4],[5,6]])\n",
        "t_val=np.array([3,4])\n",
        "w=np.array([3,2,1])\n",
        "results =Gradient_Descent (X, X_val, t, t_val, w, 0.1, 100, 1e-10, 1e-5, L2_Loss,L2_Gradient) \n",
        "np.testing.assert_allclose([results[1]],[697.919],rtol =0.05)\n",
        "np.testing.assert_allclose([results[2]],[20],atol=5) # we expect around 17.5  but some students got 24 which we will also accept\n",
        "#Instructor Values of results[1] and results [2] are 697.919 and 17.512 respectively"
      ]
    },
    {
      "cell_type": "markdown",
      "metadata": {
        "id": "MCdKrIzOUqLM"
      },
      "source": [
        "## Pseudo Inverse Method\n",
        "\n",
        "You have to implement a slightly more advanced version, with L2 penalty:\n",
        "\n",
        "w = (X' X + lambda I)^(-1) X' t.\n",
        "\n",
        "See, for example: Section 2 of https://web.mit.edu/zoya/www/linearRegression.pdf\n",
        "\n",
        "Here, the column of 1's in assumed to be included in X"
      ]
    },
    {
      "cell_type": "code",
      "execution_count": 76,
      "metadata": {
        "id": "xHhWxi7nUqLM"
      },
      "outputs": [],
      "source": [
        "def Pseudo_Inverse (X, t, lamda): # Output should be weight vector\n",
        "    r=len(X)\n",
        "    X_new=np.c_[ X, np.ones(r)];\n",
        "    I=np.identity(len(X_new[0])) #Identity Matrix\n",
        "    X_t=np.transpose(X_new) #Xtranspose=X'\n",
        "    w=np.dot(np.dot(np.linalg.inv((np.dot(X_t,X_new)+lamda*I)),X_t),t) #(X' X + lambda I)^(-1) X' t\n",
        "    return w\n",
        "    raise NotImplementedError()"
      ]
    },
    {
      "cell_type": "code",
      "execution_count": 77,
      "metadata": {
        "id": "Joku7RyOUqLM"
      },
      "outputs": [],
      "source": [
        "'''\n",
        "TEST CASES, DO NOT CHANGE\n",
        "'''\n",
        "''' case 1 - other data'''\n",
        "X=np.array([[3,6,5],[4.5,6.6,6]])\n",
        "t=np.array([4,5.5])\n",
        "np.testing.assert_array_almost_equal(Pseudo_Inverse(X,t,0.5),np.array([ 0.491,  0.183,  0.319, -0.002]),decimal=3)"
      ]
    },
    {
      "cell_type": "markdown",
      "metadata": {
        "id": "cyqddIwjUqLM"
      },
      "source": [
        "#... Part 1 ends Below this you be more creative. Just comment out the lines where you save files (e.g. test predictions)."
      ]
    },
    {
      "cell_type": "markdown",
      "metadata": {
        "id": "xyKpStMEUqLN"
      },
      "source": [
        "#**Part 2 begins ...**\n",
        "\n",
        "**Instructions to be loosely followed (except number 8):**\n",
        "\n",
        "1. Add more code and text cells between this and the last cell.\n",
        "2. Read training data from: https://www.ee.iitb.ac.in/~asethi/Dump/TempTrain.csv only. Do not use a local copy of the dataset.\n",
        "3. Find the best lamda for **MSE+lamda*L2(w)** loss function. Plot training and validation RMSE vs. 1/lamda (1/lamda represents model complexity). Print weights, validation RMSE, validation NRMSE for the best lamda.\n",
        "4. Find the best lamda for **MSE+lamda*L1(w)** loss function. Plot training and validation RMSE vs. 1/lamda (1/lamda represents model complexity). Print weights, validation RMSE, validation NRMSE for the best lamda.\n",
        "5. Find the best lamda for the **pseudo-inv method**. Plot training and validation RMSE vs. 1/lamda (1/lamda represents model complexity). Print weights, validation RMSE, validation NRMSE for the best lamda.\n",
        "6. Write your observations and conclusions.\n",
        "7. Read test data from: https://www.ee.iitb.ac.in/~asethi/Dump/TempTest.csv only. Do not use a local copy of the dataset. Predict its dependent (missing last column) using the model with the lowest MSE, RMSE, or NRMSE. Save it as a file RollNo1_RollNo2_1.csv.\n",
        "8. **Disable the prediction csv file saving statement and submit this entire .ipynb file, .py file, and .csv file as a single RollNo1_RollNo2_1.zip file.**\n"
      ]
    },
    {
      "cell_type": "code",
      "execution_count": 78,
      "metadata": {
        "id": "v1DUI7fSUqLN"
      },
      "outputs": [],
      "source": [
        "#Reading the Training dataframe\n",
        "url=\"https://www.ee.iitb.ac.in/~asethi/Dump/TempTrain.csv \"\n",
        "df=pd.read_csv(url)\n",
        "\n",
        "#For splitting training & validation dataset in 80:20 ratio\n",
        "row=np.int(len(df)*0.8)\n",
        "\n",
        "#Extracting the features for training \n",
        "train_df=df[df.columns.values[0:21]].iloc[:row,:]\n",
        "\n",
        "#Extracting the target for training dataframe \n",
        "t=np.array(df[df.columns.values[21]].iloc[:row])\n",
        "\n",
        "#Normalizing & adding bias\n",
        "#X=Normalize(np.asarray(train_df))\n",
        "X=np.asarray(train_df)\n",
        "X=np.c_[ X, np.ones(len(X))]\n",
        "\n",
        "#initialize with array of 1's for gradient descent\n",
        "w=np.ones(len(X[0])+1)*0.1\n",
        "\n",
        "#Extracting Validation dataframe\n",
        "validation_df=df[df.columns.values[0:21]].iloc[row+1:,:]\n",
        "\n",
        "#Extracting the target for validation dataframe \n",
        "t_val=np.array(df[df.columns.values[21]].iloc[row+1:])\n",
        "\n",
        "#Normalizing & adding bias\n",
        "X_val=np.asarray(validation_df)\n",
        "X_val=np.c_[ X_val, np.ones(len(X_val))];\n",
        "\n",
        "\n"
      ]
    },
    {
      "cell_type": "code",
      "source": [
        "#1-(sum of squares of residual errors/sum of squares of error) \n",
        "def r2score(y,f):\n",
        "  s1=np.sum(np.square(y-f));\n",
        "  s2=np.sum(np.square(np.mean(y)-y))\n",
        "  return (1-1.0*s1/s2)\n",
        "\n"
      ],
      "metadata": {
        "id": "Mls91a_TdxHu"
      },
      "execution_count": 79,
      "outputs": []
    },
    {
      "cell_type": "markdown",
      "metadata": {
        "id": "EwJfe1T1W8sT"
      },
      "source": [
        "# **MSE+lamda(L2)**"
      ]
    },
    {
      "cell_type": "code",
      "execution_count": 80,
      "metadata": {
        "id": "tLWD1qMlWD93"
      },
      "outputs": [],
      "source": [
        "result=[];\n",
        "#Lamda values for regularization\n",
        "lamda=np.array([0.01,0.1,1,10,100,1000,10000,100000])\n",
        "for l in lamda:\n",
        "  result.append(Gradient_Descent (X, X_val, t, t_val, w, l, 1000, 1e-10, 1e-8, L2_Loss,L2_Gradient))\n",
        "  #return w, train_loss_final, validation_loss_final, validation_NRMSE\n"
      ]
    },
    {
      "cell_type": "code",
      "execution_count": 81,
      "metadata": {
        "colab": {
          "base_uri": "https://localhost:8080/"
        },
        "id": "QchgaD_8T-dg",
        "outputId": "a9d96f67-3702-4cb0-82b5-fe29d508b6f4"
      },
      "outputs": [
        {
          "output_type": "stream",
          "name": "stderr",
          "text": [
            "/usr/local/lib/python3.7/dist-packages/ipykernel_launcher.py:1: VisibleDeprecationWarning: Creating an ndarray from ragged nested sequences (which is a list-or-tuple of lists-or-tuples-or ndarrays with different lengths or shapes) is deprecated. If you meant to do this, you must specify 'dtype=object' when creating the ndarray\n",
            "  \"\"\"Entry point for launching an IPython kernel.\n"
          ]
        }
      ],
      "source": [
        "ans1=np.array(result)\n",
        "train_rmse=[];validation_rmse=[];\n",
        "#Training and validation rmse calculations\n",
        "for i in range(len(result)):\n",
        "  train_rmse.append(np.sqrt(MSE_Loss(X,t,ans1[i][0])))\n",
        "  validation_rmse.append(np.sqrt(MSE_Loss(X_val,t_val,ans1[i][0])))\n",
        "  \n"
      ]
    },
    {
      "cell_type": "markdown",
      "metadata": {
        "id": "aHFJrmRf5l0L"
      },
      "source": [
        "# **First approximately plot the lamda vs rmse error then increase iterations to find the weights more accurately**"
      ]
    },
    {
      "cell_type": "code",
      "execution_count": 82,
      "metadata": {
        "colab": {
          "base_uri": "https://localhost:8080/",
          "height": 701
        },
        "id": "0J_m9-CRWHdW",
        "outputId": "38adec83-9137-4cb1-bc35-634530ed2e9e"
      },
      "outputs": [
        {
          "output_type": "display_data",
          "data": {
            "image/png": "[encoded data removed]",
            "text/plain": [
              "<Figure size 432x288 with 1 Axes>"
            ]
          },
          "metadata": {
            "needs_background": "light"
          }
        },
        {
          "output_type": "display_data",
          "data": {
            "image/png": "[encoded data removed]",
            "text/plain": [
              "<Figure size 432x288 with 1 Axes>"
            ]
          },
          "metadata": {
            "needs_background": "light"
          }
        },
        {
          "output_type": "stream",
          "name": "stdout",
          "text": [
            "\n",
            "weights [ 0.07764086  0.07770006  0.07633522  0.07616582  0.07772207  0.07772348\n",
            "  0.07781642  0.07550859  0.07800052  0.07800081  0.07800245  0.07800381\n",
            "  0.07796442  0.07797334  0.07798954  0.07798932  0.07742308  0.07601694\n",
            "  0.07194368  0.07788894 -0.00221363  0.07799854  0.09997991]\n",
            "\n",
            "validation rmse= 6.890622245625653\n",
            "\n",
            "NRMSE loss= 1.8029191839921204\n"
          ]
        }
      ],
      "source": [
        "\n",
        "#Plotting different metrics\n",
        "plt.plot(np.log10(1/lamda),train_rmse);plt.title(\"Training RMSE\");plt.show()\n",
        "plt.plot(np.log10(1/lamda),validation_rmse);plt.title(\"Validation RMSE\");plt.show()\n",
        "print(\"\\nweights\",ans1[np.argmin(ans1[:,3])][0])\n",
        "print(\"\\nvalidation rmse=\",np.sqrt(MSE_Loss(X_val,t_val,ans1[np.argmin(ans1[:,3])][0])))\n",
        "print(\"\\nNRMSE loss=\",ans1[np.argmin(ans1[:,3])][3])\n"
      ]
    },
    {
      "cell_type": "markdown",
      "metadata": {
        "id": "8yqPfmVEeik_"
      },
      "source": [
        "### **Best lamda simulation**-After simulating for small number of iterations we get approximate lamda which gives us least validation rmse,then we increase the number of iterations to update weights more accurately.This done to reduce the time complexity of overall process.\n"
      ]
    },
    {
      "cell_type": "code",
      "execution_count": 83,
      "metadata": {
        "id": "WszTovSwbdtg"
      },
      "outputs": [],
      "source": [
        "best1=Gradient_Descent (X, X_val, t, t_val, w, 10000, 100000, 1e-10, 1e-8, L2_Loss,L2_Gradient)"
      ]
    },
    {
      "cell_type": "code",
      "execution_count": 84,
      "metadata": {
        "colab": {
          "base_uri": "https://localhost:8080/"
        },
        "id": "i5rsUUOzeq1_",
        "outputId": "6c883200-746f-4ff4-82a7-b5b8aeb1f55f"
      },
      "outputs": [
        {
          "output_type": "stream",
          "name": "stdout",
          "text": [
            "weights= [ 4.06968990e-05  2.97275942e-05  3.85857137e-05  9.97871784e-05\n",
            "  4.22289618e-05  3.07351464e-05  5.67662822e-06  9.07371318e-05\n",
            " -8.24048050e-08 -5.10192679e-08 -1.21103201e-07 -1.14082232e-07\n",
            " -1.71825819e-07 -6.79579044e-07 -3.28697972e-07 -7.15283116e-07\n",
            "  4.54526586e-05  1.53789059e-04  3.76637694e-05  9.89460524e-07\n",
            "  5.34130878e-03  1.21098356e-06  1.02153955e-01]\n",
            "\n",
            "validation rmse= 5.530042133613005\n",
            "\n",
            "validation Nrmse= 1.4469257921234848\n"
          ]
        }
      ],
      "source": [
        "print(\"weights=\",best1[0])\n",
        "print(\"\\nvalidation rmse=\",best1[3]*np.std(t_val))\n",
        "print(\"\\nvalidation Nrmse=\",best1[3])"
      ]
    },
    {
      "cell_type": "markdown",
      "metadata": {
        "id": "7AyzAldTXOiT"
      },
      "source": [
        "# **MSE lamda(L1)**"
      ]
    },
    {
      "cell_type": "code",
      "execution_count": 85,
      "metadata": {
        "id": "LntY1h1Sc2W4"
      },
      "outputs": [],
      "source": [
        "result=[]\n",
        "#Lamda values for regularization\n",
        "lamda=np.array([0.0001,0.001,0.01,0.1,1,10,100,1000,10000,100000])\n",
        "for l in lamda:\n",
        "  result.append(Gradient_Descent (X, X_val, t, t_val, w, l, 1000, 1e-10, 1e-8, L1_Loss,L1_Gradient))\n",
        "  #return w, train_loss_final, validation_loss_final, validation_NRMSE\n"
      ]
    },
    {
      "cell_type": "code",
      "execution_count": 86,
      "metadata": {
        "colab": {
          "base_uri": "https://localhost:8080/"
        },
        "id": "MlVfHbHbc2W_",
        "outputId": "a69a3b22-53a9-4627-98b3-e3a43a6706fb"
      },
      "outputs": [
        {
          "output_type": "stream",
          "name": "stderr",
          "text": [
            "/usr/local/lib/python3.7/dist-packages/ipykernel_launcher.py:1: VisibleDeprecationWarning: Creating an ndarray from ragged nested sequences (which is a list-or-tuple of lists-or-tuples-or ndarrays with different lengths or shapes) is deprecated. If you meant to do this, you must specify 'dtype=object' when creating the ndarray\n",
            "  \"\"\"Entry point for launching an IPython kernel.\n"
          ]
        }
      ],
      "source": [
        "ans1=np.array(result)\n",
        "train_rmse=[];validation_rmse=[]\n",
        "#Training and validation rmse calculations\n",
        "for i in range(len(result)):\n",
        "  train_rmse.append(np.sqrt(MSE_Loss(X,t,ans1[i][0])))\n",
        "  validation_rmse.append(np.sqrt(MSE_Loss(X_val,t_val,ans1[i][0])))\n",
        "\n",
        "\n"
      ]
    },
    {
      "cell_type": "markdown",
      "metadata": {
        "id": "y4DdO0_n56is"
      },
      "source": [
        "# **First approximately plot the lamda vs rmse error then increase iterations to find the weights more accurately**"
      ]
    },
    {
      "cell_type": "code",
      "execution_count": 87,
      "metadata": {
        "colab": {
          "base_uri": "https://localhost:8080/",
          "height": 736
        },
        "id": "88uhGSEFc2W_",
        "outputId": "221e50cb-a5ce-4bd5-80d8-f602601d52e4"
      },
      "outputs": [
        {
          "output_type": "display_data",
          "data": {
            "image/png": "[encoded data removed]",
            "text/plain": [
              "<Figure size 432x288 with 1 Axes>"
            ]
          },
          "metadata": {
            "needs_background": "light"
          }
        },
        {
          "output_type": "display_data",
          "data": {
            "image/png": "[encoded data removed]",
            "text/plain": [
              "<Figure size 432x288 with 1 Axes>"
            ]
          },
          "metadata": {
            "needs_background": "light"
          }
        },
        {
          "output_type": "stream",
          "name": "stdout",
          "text": [
            "\n",
            "weights [ 9.65450830e-05 -6.62695091e-05  8.42475843e-05  3.63938333e-05\n",
            " -3.92061965e-05 -4.90339322e-05  2.24987810e-05 -6.33540379e-05\n",
            " -1.45991637e-05 -1.39715209e-05 -1.26359712e-05 -1.15274927e-05\n",
            " -4.16500813e-05 -3.80012247e-05 -2.15092417e-05 -2.57243118e-05\n",
            "  8.70677044e-05  6.69286769e-05  5.48900959e-05 -8.77081882e-05\n",
            "  5.34960262e-03 -1.36475093e-05  9.99863525e-02]\n",
            "\n",
            "validation rmse= 5.523115744985103\n",
            "\n",
            "NRMSE loss= 1.4451135147285141\n"
          ]
        }
      ],
      "source": [
        "\n",
        "#Plotting different metrics\n",
        "plt.plot(np.log10(1/lamda),train_rmse);plt.title(\"Training RMSE\");plt.show()\n",
        "plt.plot(np.log10(1/lamda),validation_rmse);plt.title(\"Validation RMSE\");plt.show()\n",
        "print(\"\\nweights\",ans1[np.argmin(ans1[:,3])][0])\n",
        "print(\"\\nvalidation rmse=\",np.sqrt(MSE_Loss(X_val,t_val,ans1[np.argmin(ans1[:,3])][0])))\n",
        "print(\"\\nNRMSE loss=\",ans1[np.argmin(ans1[:,3])][3])"
      ]
    },
    {
      "cell_type": "markdown",
      "metadata": {
        "id": "u6jjOkvT5Njh"
      },
      "source": [
        "### **Best lamda simulation**-After simulating for small number of iterations we get approximate lamda which gives us least validation rmse,then we increase the number of iterations to update weights more accurately.This done to reduce the time complexity of overall process.\n"
      ]
    },
    {
      "cell_type": "code",
      "execution_count": 88,
      "metadata": {
        "id": "91NMM4c3c2W_"
      },
      "outputs": [],
      "source": [
        "best2=Gradient_Descent (X, X_val, t, t_val, w, 1000, 100000, 1e-10, 1e-8, L1_Loss,L1_Gradient)\n"
      ]
    },
    {
      "cell_type": "code",
      "execution_count": 89,
      "metadata": {
        "colab": {
          "base_uri": "https://localhost:8080/"
        },
        "id": "uKPZoSUrc2W_",
        "outputId": "456f5006-6950-4eee-f056-94de2faa58e0"
      },
      "outputs": [
        {
          "output_type": "stream",
          "name": "stdout",
          "text": [
            "weights= [ 8.07430500e-06 -6.90683237e-06  2.48844704e-06 -1.14532090e-06\n",
            " -9.41827346e-06 -4.66041868e-06 -6.35775899e-06 -2.30858382e-06\n",
            " -1.55070314e-06 -4.99119436e-06 -2.24448499e-06 -4.67772609e-07\n",
            "  4.94305801e-06  2.05226686e-06  5.79212811e-06  4.22135509e-06\n",
            "  6.89024761e-06 -9.14454826e-06  1.93064589e-06 -6.00573277e-06\n",
            "  5.50427143e-03  3.20906121e-06  1.00543209e-01]\n",
            "\n",
            "validation rmse= 5.075682462015529\n",
            "\n",
            "validation Nrmse= 1.3280433836624084\n"
          ]
        }
      ],
      "source": [
        "print(\"weights=\",best2[0])\n",
        "print(\"\\nvalidation rmse=\",best2[3]*np.std(t_val))\n",
        "print(\"\\nvalidation Nrmse=\",best2[3])"
      ]
    },
    {
      "cell_type": "markdown",
      "metadata": {
        "id": "Lc6JaS6hXpD5"
      },
      "source": [
        "# **Pseudo Inverse**"
      ]
    },
    {
      "cell_type": "code",
      "execution_count": 90,
      "metadata": {
        "id": "uwrzPYuP0sPR"
      },
      "outputs": [],
      "source": [
        "def Pseudo_Inverse_part2 (X, t, lamda): # Output should be weight vector\n",
        "    r=len(X)\n",
        "    X_new=np.c_[ X, np.ones(r)];\n",
        "    I=np.identity(len(X_new[0]))\n",
        "    X_t=np.transpose(X_new);\n",
        "    w=np.dot(np.dot(np.linalg.inv((np.dot(X_t,X_new)+lamda*I)),X_t),t);\n",
        "    return w\n",
        "    raise NotImplementedError()"
      ]
    },
    {
      "cell_type": "code",
      "execution_count": 91,
      "metadata": {
        "id": "hQceHtgHXsxE"
      },
      "outputs": [],
      "source": [
        "result=[]\n",
        "lamda=np.array([i for i in range(1,50000)])\n",
        "\n",
        "for l in lamda:\n",
        "  w=Pseudo_Inverse_part2(X,t,l)\n",
        "  trmse=np.sqrt(MSE_Loss(X,t,w))\n",
        "  vrmse=np.sqrt(MSE_Loss(X_val,t_val,w))\n",
        "  nrmse=NRMSE_Metric(X_val,t_val,w)\n",
        "  result.append([w,trmse,vrmse,nrmse])\n",
        "  \n"
      ]
    },
    {
      "cell_type": "code",
      "execution_count": 92,
      "metadata": {
        "colab": {
          "base_uri": "https://localhost:8080/",
          "height": 774
        },
        "id": "4aYxyqrrXs_M",
        "outputId": "cf5987b1-0daa-46e9-e830-8f8732494700"
      },
      "outputs": [
        {
          "output_type": "stream",
          "name": "stderr",
          "text": [
            "/usr/local/lib/python3.7/dist-packages/ipykernel_launcher.py:1: VisibleDeprecationWarning: Creating an ndarray from ragged nested sequences (which is a list-or-tuple of lists-or-tuples-or ndarrays with different lengths or shapes) is deprecated. If you meant to do this, you must specify 'dtype=object' when creating the ndarray\n",
            "  \"\"\"Entry point for launching an IPython kernel.\n"
          ]
        },
        {
          "output_type": "display_data",
          "data": {
            "image/png": "[encoded data removed]",
            "text/plain": [
              "<Figure size 432x288 with 1 Axes>"
            ]
          },
          "metadata": {
            "needs_background": "light"
          }
        },
        {
          "output_type": "display_data",
          "data": {
            "image/png": "[encoded data removed]",
            "text/plain": [
              "<Figure size 432x288 with 1 Axes>"
            ]
          },
          "metadata": {
            "needs_background": "light"
          }
        },
        {
          "output_type": "stream",
          "name": "stdout",
          "text": [
            "weights [ 1.48887983e-01  2.75407058e-02  1.56282564e-03 -1.70200103e-02\n",
            "  6.33881626e-01  1.06637968e-01 -1.53906256e-01  1.09316825e-02\n",
            " -2.07858560e-01 -1.57702060e-01 -1.74933482e-01 -2.10482812e-01\n",
            " -8.91172832e-02  8.41828238e-02 -6.37932862e-02 -5.42474603e-02\n",
            "  1.20256413e-02  4.04646348e-02 -2.77466394e-03  1.66482576e-01\n",
            "  7.12612895e-05  6.68904410e-04  6.68904410e-04]\n",
            "\n",
            "validation rmse= 1.4146023058482535\n",
            "\n",
            "NRMSE loss= 0.3701282038138681\n"
          ]
        }
      ],
      "source": [
        "ans3=np.array(result)\n",
        "\n",
        "plt.plot(1/lamda,ans3[:,1]);plt.title(\"Traing-Loss RMSE\");plt.show()\n",
        "plt.plot(1/lamda,ans3[:,2]);plt.title(\"Validation-Loss RMSE\");plt.show()\n",
        "\n",
        "print(\"weights\",ans3[np.argmin(ans3[:,3])][0])\n",
        "print(\"\\nvalidation rmse=\",ans3[np.argmin(ans3[:,3])][2])\n",
        "print(\"\\nNRMSE loss=\",ans3[np.argmin(ans3[:,3])][3])"
      ]
    },
    {
      "cell_type": "code",
      "execution_count": 93,
      "metadata": {
        "colab": {
          "base_uri": "https://localhost:8080/"
        },
        "id": "N2AgW-jptSzr",
        "outputId": "49be88e6-4e3f-4c77-9bb1-75d7432749fd"
      },
      "outputs": [
        {
          "output_type": "stream",
          "name": "stdout",
          "text": [
            "[30.51229273 29.19426047 29.43658189 ... 21.48375766 21.63362343\n",
            " 21.55457653] [ 0.13102907  0.08027594 -0.06085868  0.0021723   0.20690823  0.13246654\n",
            " -0.05587505  0.01101492 -0.01138592 -0.0084053  -0.00982057 -0.01076474\n",
            " -0.0226349   0.00429721 -0.01177573 -0.02258184  0.03398891  0.11527601\n",
            " -0.00284335  0.01507568  0.00043713  0.00091399  0.00091399] 1417\n"
          ]
        }
      ],
      "source": [
        "best3=ans3[np.argmin(ans3[:,3])]\n",
        "print(Prediction(X_val,best3[0]),w,np.argmin(ans3[:,3]))"
      ]
    },
    {
      "cell_type": "markdown",
      "source": [
        "# **Predicted vs Actual value plot & R2 score for best model**"
      ],
      "metadata": {
        "id": "D9awOY9Wqfan"
      }
    },
    {
      "cell_type": "code",
      "source": [
        "#Plotting for best model ie PseudoInverse\n",
        "plt.scatter(Prediction(X_val,best3[0]),t_val);plt.title(\"Predicted vs Actual\")\n",
        "plt.show()\n",
        "print(\"R2-score=\",r2score(t_val,Prediction(X_val,best3[0])))"
      ],
      "metadata": {
        "colab": {
          "base_uri": "https://localhost:8080/",
          "height": 298
        },
        "id": "ut3pHUOrpvbv",
        "outputId": "fca59d15-32e8-4620-bf93-07a463f993ea"
      },
      "execution_count": 99,
      "outputs": [
        {
          "output_type": "display_data",
          "data": {
            "image/png": "[encoded data removed]",
            "text/plain": [
              "<Figure size 432x288 with 1 Axes>"
            ]
          },
          "metadata": {
            "needs_background": "light"
          }
        },
        {
          "output_type": "stream",
          "name": "stdout",
          "text": [
            "R2-score= 0.8630051127415197\n"
          ]
        }
      ]
    },
    {
      "cell_type": "markdown",
      "metadata": {
        "id": "jd0NSSv-X8cW"
      },
      "source": [
        "# **Test Prediction** "
      ]
    },
    {
      "cell_type": "code",
      "execution_count": 101,
      "metadata": {
        "colab": {
          "base_uri": "https://localhost:8080/",
          "height": 730
        },
        "id": "Fyvw1fzHWKIv",
        "outputId": "d31bf379-8e52-4b8d-a434-22f5c5255274"
      },
      "outputs": [
        {
          "output_type": "display_data",
          "data": {
            "text/html": [
              "\n",
              "  <div id=\"df-715b8b9c-0723-4705-a4e4-7c1b114dddeb\">\n",
              "    <div class=\"colab-df-container\">\n",
              "      <div>\n",
              "<style scoped>\n",
              "    .dataframe tbody tr th:only-of-type {\n",
              "        vertical-align: middle;\n",
              "    }\n",
              "\n",
              "    .dataframe tbody tr th {\n",
              "        vertical-align: top;\n",
              "    }\n",
              "\n",
              "    .dataframe thead th {\n",
              "        text-align: right;\n",
              "    }\n",
              "</style>\n",
              "<table border=\"1\" class=\"dataframe\">\n",
              "  <thead>\n",
              "    <tr style=\"text-align: right;\">\n",
              "      <th></th>\n",
              "      <th>Present_Tmax</th>\n",
              "      <th>Present_Tmin</th>\n",
              "      <th>LDAPS_RHmin</th>\n",
              "      <th>LDAPS_RHmax</th>\n",
              "      <th>LDAPS_Tmax_lapse</th>\n",
              "      <th>LDAPS_Tmin_lapse</th>\n",
              "      <th>LDAPS_WS</th>\n",
              "      <th>LDAPS_LH</th>\n",
              "      <th>LDAPS_CC1</th>\n",
              "      <th>LDAPS_CC2</th>\n",
              "      <th>LDAPS_CC3</th>\n",
              "      <th>LDAPS_CC4</th>\n",
              "      <th>LDAPS_PPT1</th>\n",
              "      <th>LDAPS_PPT2</th>\n",
              "      <th>LDAPS_PPT3</th>\n",
              "      <th>LDAPS_PPT4</th>\n",
              "      <th>lat</th>\n",
              "      <th>lon</th>\n",
              "      <th>DEM</th>\n",
              "      <th>Slope</th>\n",
              "      <th>Solar radiation</th>\n",
              "    </tr>\n",
              "  </thead>\n",
              "  <tbody>\n",
              "    <tr>\n",
              "      <th>0</th>\n",
              "      <td>27.9</td>\n",
              "      <td>19.9</td>\n",
              "      <td>58.964123</td>\n",
              "      <td>97.821373</td>\n",
              "      <td>26.798375</td>\n",
              "      <td>20.828714</td>\n",
              "      <td>6.397833</td>\n",
              "      <td>75.366664</td>\n",
              "      <td>0.197580</td>\n",
              "      <td>0.306510</td>\n",
              "      <td>4.236132e-01</td>\n",
              "      <td>0.842868</td>\n",
              "      <td>0.0</td>\n",
              "      <td>0.0</td>\n",
              "      <td>0.0</td>\n",
              "      <td>0.025890</td>\n",
              "      <td>37.6046</td>\n",
              "      <td>126.991</td>\n",
              "      <td>212.3350</td>\n",
              "      <td>2.7850</td>\n",
              "      <td>5992.895996</td>\n",
              "    </tr>\n",
              "    <tr>\n",
              "      <th>1</th>\n",
              "      <td>30.3</td>\n",
              "      <td>21.0</td>\n",
              "      <td>51.617828</td>\n",
              "      <td>89.577393</td>\n",
              "      <td>29.069652</td>\n",
              "      <td>22.979956</td>\n",
              "      <td>6.199736</td>\n",
              "      <td>54.449329</td>\n",
              "      <td>0.193229</td>\n",
              "      <td>0.311707</td>\n",
              "      <td>4.317073e-01</td>\n",
              "      <td>0.816846</td>\n",
              "      <td>0.0</td>\n",
              "      <td>0.0</td>\n",
              "      <td>0.0</td>\n",
              "      <td>0.031924</td>\n",
              "      <td>37.6046</td>\n",
              "      <td>127.032</td>\n",
              "      <td>44.7624</td>\n",
              "      <td>0.5141</td>\n",
              "      <td>5869.312500</td>\n",
              "    </tr>\n",
              "    <tr>\n",
              "      <th>2</th>\n",
              "      <td>30.2</td>\n",
              "      <td>22.5</td>\n",
              "      <td>47.538521</td>\n",
              "      <td>85.529457</td>\n",
              "      <td>29.696974</td>\n",
              "      <td>23.554281</td>\n",
              "      <td>6.269956</td>\n",
              "      <td>14.450297</td>\n",
              "      <td>0.200518</td>\n",
              "      <td>0.301901</td>\n",
              "      <td>4.105748e-01</td>\n",
              "      <td>0.825653</td>\n",
              "      <td>0.0</td>\n",
              "      <td>0.0</td>\n",
              "      <td>0.0</td>\n",
              "      <td>0.011254</td>\n",
              "      <td>37.5776</td>\n",
              "      <td>127.058</td>\n",
              "      <td>33.3068</td>\n",
              "      <td>0.2661</td>\n",
              "      <td>5863.555664</td>\n",
              "    </tr>\n",
              "    <tr>\n",
              "      <th>3</th>\n",
              "      <td>30.7</td>\n",
              "      <td>22.0</td>\n",
              "      <td>59.407711</td>\n",
              "      <td>98.806969</td>\n",
              "      <td>28.234872</td>\n",
              "      <td>21.380987</td>\n",
              "      <td>6.755825</td>\n",
              "      <td>105.226457</td>\n",
              "      <td>0.186295</td>\n",
              "      <td>0.302106</td>\n",
              "      <td>3.978184e-01</td>\n",
              "      <td>0.781959</td>\n",
              "      <td>0.0</td>\n",
              "      <td>0.0</td>\n",
              "      <td>0.0</td>\n",
              "      <td>0.041682</td>\n",
              "      <td>37.6450</td>\n",
              "      <td>127.022</td>\n",
              "      <td>45.7160</td>\n",
              "      <td>2.5348</td>\n",
              "      <td>5856.964844</td>\n",
              "    </tr>\n",
              "    <tr>\n",
              "      <th>4</th>\n",
              "      <td>31.0</td>\n",
              "      <td>21.8</td>\n",
              "      <td>55.004128</td>\n",
              "      <td>92.867073</td>\n",
              "      <td>27.988202</td>\n",
              "      <td>22.164184</td>\n",
              "      <td>6.241006</td>\n",
              "      <td>104.791246</td>\n",
              "      <td>0.173245</td>\n",
              "      <td>0.291852</td>\n",
              "      <td>4.479975e-01</td>\n",
              "      <td>0.823050</td>\n",
              "      <td>0.0</td>\n",
              "      <td>0.0</td>\n",
              "      <td>0.0</td>\n",
              "      <td>0.014004</td>\n",
              "      <td>37.5507</td>\n",
              "      <td>127.135</td>\n",
              "      <td>35.0380</td>\n",
              "      <td>0.5055</td>\n",
              "      <td>5859.552246</td>\n",
              "    </tr>\n",
              "    <tr>\n",
              "      <th>...</th>\n",
              "      <td>...</td>\n",
              "      <td>...</td>\n",
              "      <td>...</td>\n",
              "      <td>...</td>\n",
              "      <td>...</td>\n",
              "      <td>...</td>\n",
              "      <td>...</td>\n",
              "      <td>...</td>\n",
              "      <td>...</td>\n",
              "      <td>...</td>\n",
              "      <td>...</td>\n",
              "      <td>...</td>\n",
              "      <td>...</td>\n",
              "      <td>...</td>\n",
              "      <td>...</td>\n",
              "      <td>...</td>\n",
              "      <td>...</td>\n",
              "      <td>...</td>\n",
              "      <td>...</td>\n",
              "      <td>...</td>\n",
              "      <td>...</td>\n",
              "    </tr>\n",
              "    <tr>\n",
              "      <th>1501</th>\n",
              "      <td>23.1</td>\n",
              "      <td>17.8</td>\n",
              "      <td>24.688997</td>\n",
              "      <td>78.261383</td>\n",
              "      <td>27.812697</td>\n",
              "      <td>18.303014</td>\n",
              "      <td>6.603253</td>\n",
              "      <td>9.614074</td>\n",
              "      <td>0.052902</td>\n",
              "      <td>0.030169</td>\n",
              "      <td>0.000000e+00</td>\n",
              "      <td>0.004380</td>\n",
              "      <td>0.0</td>\n",
              "      <td>0.0</td>\n",
              "      <td>0.0</td>\n",
              "      <td>0.000000</td>\n",
              "      <td>37.5507</td>\n",
              "      <td>127.040</td>\n",
              "      <td>26.2980</td>\n",
              "      <td>0.5721</td>\n",
              "      <td>4456.024414</td>\n",
              "    </tr>\n",
              "    <tr>\n",
              "      <th>1502</th>\n",
              "      <td>22.5</td>\n",
              "      <td>17.4</td>\n",
              "      <td>30.094858</td>\n",
              "      <td>83.690018</td>\n",
              "      <td>26.704905</td>\n",
              "      <td>17.814038</td>\n",
              "      <td>5.768083</td>\n",
              "      <td>82.146707</td>\n",
              "      <td>0.066461</td>\n",
              "      <td>0.024518</td>\n",
              "      <td>5.850000e-07</td>\n",
              "      <td>0.017678</td>\n",
              "      <td>0.0</td>\n",
              "      <td>0.0</td>\n",
              "      <td>0.0</td>\n",
              "      <td>0.000000</td>\n",
              "      <td>37.5102</td>\n",
              "      <td>127.086</td>\n",
              "      <td>21.9668</td>\n",
              "      <td>0.1332</td>\n",
              "      <td>4441.803711</td>\n",
              "    </tr>\n",
              "    <tr>\n",
              "      <th>1503</th>\n",
              "      <td>23.3</td>\n",
              "      <td>17.1</td>\n",
              "      <td>26.741310</td>\n",
              "      <td>78.869858</td>\n",
              "      <td>26.352081</td>\n",
              "      <td>18.775678</td>\n",
              "      <td>6.148918</td>\n",
              "      <td>72.058294</td>\n",
              "      <td>0.030034</td>\n",
              "      <td>0.081035</td>\n",
              "      <td>0.000000e+00</td>\n",
              "      <td>0.000000</td>\n",
              "      <td>0.0</td>\n",
              "      <td>0.0</td>\n",
              "      <td>0.0</td>\n",
              "      <td>0.000000</td>\n",
              "      <td>37.5372</td>\n",
              "      <td>126.891</td>\n",
              "      <td>15.5876</td>\n",
              "      <td>0.1554</td>\n",
              "      <td>4443.313965</td>\n",
              "    </tr>\n",
              "    <tr>\n",
              "      <th>1504</th>\n",
              "      <td>23.3</td>\n",
              "      <td>17.7</td>\n",
              "      <td>24.040634</td>\n",
              "      <td>77.294975</td>\n",
              "      <td>27.010193</td>\n",
              "      <td>18.733519</td>\n",
              "      <td>6.542819</td>\n",
              "      <td>47.241457</td>\n",
              "      <td>0.035874</td>\n",
              "      <td>0.074962</td>\n",
              "      <td>0.000000e+00</td>\n",
              "      <td>0.000000</td>\n",
              "      <td>0.0</td>\n",
              "      <td>0.0</td>\n",
              "      <td>0.0</td>\n",
              "      <td>0.000000</td>\n",
              "      <td>37.5237</td>\n",
              "      <td>126.909</td>\n",
              "      <td>17.2956</td>\n",
              "      <td>0.2223</td>\n",
              "      <td>4438.373535</td>\n",
              "    </tr>\n",
              "    <tr>\n",
              "      <th>1505</th>\n",
              "      <td>23.2</td>\n",
              "      <td>17.4</td>\n",
              "      <td>22.933014</td>\n",
              "      <td>77.243744</td>\n",
              "      <td>27.939516</td>\n",
              "      <td>18.522965</td>\n",
              "      <td>7.289264</td>\n",
              "      <td>9.090034</td>\n",
              "      <td>0.048954</td>\n",
              "      <td>0.059869</td>\n",
              "      <td>0.000000e+00</td>\n",
              "      <td>0.000796</td>\n",
              "      <td>0.0</td>\n",
              "      <td>0.0</td>\n",
              "      <td>0.0</td>\n",
              "      <td>0.000000</td>\n",
              "      <td>37.5237</td>\n",
              "      <td>126.970</td>\n",
              "      <td>19.5844</td>\n",
              "      <td>0.2713</td>\n",
              "      <td>4451.345215</td>\n",
              "    </tr>\n",
              "  </tbody>\n",
              "</table>\n",
              "<p>1506 rows × 21 columns</p>\n",
              "</div>\n",
              "      <button class=\"colab-df-convert\" onclick=\"convertToInteractive('df-715b8b9c-0723-4705-a4e4-7c1b114dddeb')\"\n",
              "              title=\"Convert this dataframe to an interactive table.\"\n",
              "              style=\"display:none;\">\n",
              "        \n",
              "  <svg xmlns=\"http://www.w3.org/2000/svg\" height=\"24px\"viewBox=\"0 0 24 24\"\n",
              "       width=\"24px\">\n",
              "    <path d=\"M0 0h24v24H0V0z\" fill=\"none\"/>\n",
              "    <path d=\"M18.56 5.44l.94 2.06.94-2.06 2.06-.94-2.06-.94-.94-2.06-.94 2.06-2.06.94zm-11 1L8.5 8.5l.94-2.06 2.06-.94-2.06-.94L8.5 2.5l-.94 2.06-2.06.94zm10 10l.94 2.06.94-2.06 2.06-.94-2.06-.94-.94-2.06-.94 2.06-2.06.94z\"/><path d=\"M17.41 7.96l-1.37-1.37c-.4-.4-.92-.59-1.43-.59-.52 0-1.04.2-1.43.59L10.3 9.45l-7.72 7.72c-.78.78-.78 2.05 0 2.83L4 21.41c.39.39.9.59 1.41.59.51 0 1.02-.2 1.41-.59l7.78-7.78 2.81-2.81c.8-.78.8-2.07 0-2.86zM5.41 20L4 18.59l7.72-7.72 1.47 1.35L5.41 20z\"/>\n",
              "  </svg>\n",
              "      </button>\n",
              "      \n",
              "  <style>\n",
              "    .colab-df-container {\n",
              "      display:flex;\n",
              "      flex-wrap:wrap;\n",
              "      gap: 12px;\n",
              "    }\n",
              "\n",
              "    .colab-df-convert {\n",
              "      background-color: #E8F0FE;\n",
              "      border: none;\n",
              "      border-radius: 50%;\n",
              "      cursor: pointer;\n",
              "      display: none;\n",
              "      fill: #1967D2;\n",
              "      height: 32px;\n",
              "      padding: 0 0 0 0;\n",
              "      width: 32px;\n",
              "    }\n",
              "\n",
              "    .colab-df-convert:hover {\n",
              "      background-color: #E2EBFA;\n",
              "      box-shadow: 0px 1px 2px rgba(60, 64, 67, 0.3), 0px 1px 3px 1px rgba(60, 64, 67, 0.15);\n",
              "      fill: #174EA6;\n",
              "    }\n",
              "\n",
              "    [theme=dark] .colab-df-convert {\n",
              "      background-color: #3B4455;\n",
              "      fill: #D2E3FC;\n",
              "    }\n",
              "\n",
              "    [theme=dark] .colab-df-convert:hover {\n",
              "      background-color: #434B5C;\n",
              "      box-shadow: 0px 1px 3px 1px rgba(0, 0, 0, 0.15);\n",
              "      filter: drop-shadow(0px 1px 2px rgba(0, 0, 0, 0.3));\n",
              "      fill: #FFFFFF;\n",
              "    }\n",
              "  </style>\n",
              "\n",
              "      <script>\n",
              "        const buttonEl =\n",
              "          document.querySelector('#df-715b8b9c-0723-4705-a4e4-7c1b114dddeb button.colab-df-convert');\n",
              "        buttonEl.style.display =\n",
              "          google.colab.kernel.accessAllowed ? 'block' : 'none';\n",
              "\n",
              "        async function convertToInteractive(key) {\n",
              "          const element = document.querySelector('#df-715b8b9c-0723-4705-a4e4-7c1b114dddeb');\n",
              "          const dataTable =\n",
              "            await google.colab.kernel.invokeFunction('convertToInteractive',\n",
              "                                                     [key], {});\n",
              "          if (!dataTable) return;\n",
              "\n",
              "          const docLinkHtml = 'Like what you see? Visit the ' +\n",
              "            '<a target=\"_blank\" href=https://colab.research.google.com/notebooks/data_table.ipynb>data table notebook</a>'\n",
              "            + ' to learn more about interactive tables.';\n",
              "          element.innerHTML = '';\n",
              "          dataTable['output_type'] = 'display_data';\n",
              "          await google.colab.output.renderOutput(dataTable, element);\n",
              "          const docLink = document.createElement('div');\n",
              "          docLink.innerHTML = docLinkHtml;\n",
              "          element.appendChild(docLink);\n",
              "        }\n",
              "      </script>\n",
              "    </div>\n",
              "  </div>\n",
              "  "
            ],
            "text/plain": [
              "      Present_Tmax  Present_Tmin  ...   Slope  Solar radiation\n",
              "0             27.9          19.9  ...  2.7850      5992.895996\n",
              "1             30.3          21.0  ...  0.5141      5869.312500\n",
              "2             30.2          22.5  ...  0.2661      5863.555664\n",
              "3             30.7          22.0  ...  2.5348      5856.964844\n",
              "4             31.0          21.8  ...  0.5055      5859.552246\n",
              "...            ...           ...  ...     ...              ...\n",
              "1501          23.1          17.8  ...  0.5721      4456.024414\n",
              "1502          22.5          17.4  ...  0.1332      4441.803711\n",
              "1503          23.3          17.1  ...  0.1554      4443.313965\n",
              "1504          23.3          17.7  ...  0.2223      4438.373535\n",
              "1505          23.2          17.4  ...  0.2713      4451.345215\n",
              "\n",
              "[1506 rows x 21 columns]"
            ]
          },
          "metadata": {}
        },
        {
          "output_type": "stream",
          "name": "stdout",
          "text": [
            "[ 1.48887983e-01  2.75407058e-02  1.56282564e-03 -1.70200103e-02\n",
            "  6.33881626e-01  1.06637968e-01 -1.53906256e-01  1.09316825e-02\n",
            " -2.07858560e-01 -1.57702060e-01 -1.74933482e-01 -2.10482812e-01\n",
            " -8.91172832e-02  8.41828238e-02 -6.37932862e-02 -5.42474603e-02\n",
            "  1.20256413e-02  4.04646348e-02 -2.77466394e-03  1.66482576e-01\n",
            "  7.12612895e-05  6.68904410e-04  6.68904410e-04]\n",
            "[27.72804686 29.79901956 29.89260183 ... 27.054704   27.18092416\n",
            " 27.19629345] 30.274610354281656 2.8601083240257545 [ 1.48887983e-01  2.75407058e-02  1.56282564e-03 -1.70200103e-02\n",
            "  6.33881626e-01  1.06637968e-01 -1.53906256e-01  1.09316825e-02\n",
            " -2.07858560e-01 -1.57702060e-01 -1.74933482e-01 -2.10482812e-01\n",
            " -8.91172832e-02  8.41828238e-02 -6.37932862e-02 -5.42474603e-02\n",
            "  1.20256413e-02  4.04646348e-02 -2.77466394e-03  1.66482576e-01\n",
            "  7.12612895e-05  6.68904410e-04  6.68904410e-04]\n"
          ]
        }
      ],
      "source": [
        "#Preparing Test dataframe & saving predicted output\n",
        "url=\"https://www.ee.iitb.ac.in/~asethi/Dump/TempTest.csv \"\n",
        "test_df=pd.read_csv(url)\n",
        "#X_test=Normalize(np.asarray(test_df));display(test_df)\n",
        "X_test=np.asarray(test_df);display(test_df)\n",
        "X_test=np.c_[ X_test, np.ones(len(X_test))]\n",
        "w=best3[0];print(w)\n",
        "\n",
        "T=Prediction(X_test,w);print(T,np.mean(T),np.std(T),best3[0])\n",
        "DF = pd.DataFrame(T)\n",
        "#DF.to_csv(\"19D070048_1.csv\")\n",
        "\n"
      ]
    },
    {
      "cell_type": "markdown",
      "metadata": {
        "id": "I5sJMRsm6fV3"
      },
      "source": [
        "# **Observation & Conclusion**\n",
        "i)MSE+L2_Loss /MSE+L1_Loss(With Normalization)-\n",
        "\n",
        "\n",
        "> \n",
        "\n",
        "\n",
        "\n",
        "1.   As 1/λ increases Training Rmse  decreases.\n",
        "2.   The approximate λ=1000 for which validation rmse is minimum.\n",
        "3.   The graph of validation rmse is convex curve.\n",
        "\n",
        "\n",
        "\n",
        "\n",
        "\n",
        "ii)Pseudo Inverse(With Normalization)\n",
        "\n",
        "\n",
        "> Indented block\n",
        "\n",
        "1.   As 1/λ increases Training Rmse  decreases.\n",
        "2.   The approximate λ=16812 for which validation rmse is minimum.\n",
        "3.   As λ increases(beyond 50000) the weights start becoming ≈0 ,The targets predicted ≈0 hence validation rmse saturates at ≈30.To find the λ that reduces error we iterate over the convex part of the curve ie (λ =10000,50000) & we get rmse=4.5.\n",
        "\n",
        "Test Prediction-\n",
        "(With Normalization)\n",
        "\n",
        "1.   MSE+L2: λ=1000,max_iteration=100000,mean of test target predicted=26.06,std_deviation=0.009,training validation rmse= 21.973113561377335,training validation Nrmse= 5.749226493586081\n",
        "\n",
        "\n",
        "2.  MSE+L1:λ=1000,max_iteration=100000,mean of test target predicted=26.67,std_deviation=0.024,training validation rmse= 5.371868964734046,training NRMSE loss= 1.4055400608499795\n",
        "\n",
        "3. Pseudo Inverse:λ=16812,mean of test target=10.99,std_deviation=1.34.training validation rmse= 4.508485693244155,training NRMSE loss= 1.179637347304018\n",
        "\n",
        "\n",
        "With Normalization the Pseudoinverse method fails badly as mean,std_deviation of test is different from training .Similarly for L2,L1 regularization the variance is very less hence the output is skewed.\n",
        "\n",
        "Test Prediction-\n",
        "(Without Normalization)\n",
        "1.   MSE+L2: λ=10000,max_iteration=100000,mean of test target predicted=28.70,std_deviation=2.264,training validation rmse= 5.53,training  Nrmse loss= 1.44\n",
        "\n",
        "\n",
        "2.  MSE+L1:λ=10000,max_iteration=100000,mean of test target predicted=29.52,std_deviation=2.33,training validation rmse= 5.07,training NRMSE loss= 1.32\n",
        "\n",
        "3. Pseudo Inverse:λ=1417,mean of test target=,std_deviation=.training validation rmse= 1.414,training NRMSE loss= 0.37\n",
        "\n",
        "**PseudoInverse is the best in terms of nrmse loss.**"
      ]
    },
    {
      "cell_type": "markdown",
      "metadata": {
        "id": "X5xoNrdBYCGc"
      },
      "source": [
        "#**... Part 2 ends.**\n",
        "\n",
        "1. Write the name or roll no.s of friends from outside your group with whom you discussed the assignment here (no penalty for mere discussion without copying code): \n",
        "2. Write the links of sources on the internet referred here (no penalty for mere consultation without copying code): "
      ]
    }
  ],
  "metadata": {
    "accelerator": "GPU",
    "colab": {
      "collapsed_sections": [],
      "name": "19D070048_1.ipynb",
      "provenance": []
    },
    "kernelspec": {
      "display_name": "Python 3",
      "language": "python",
      "name": "python3"
    },
    "language_info": {
      "codemirror_mode": {
        "name": "ipython",
        "version": 3
      },
      "file_extension": ".py",
      "mimetype": "text/x-python",
      "name": "python",
      "nbconvert_exporter": "python",
      "pygments_lexer": "ipython3",
      "version": "3.8.3"
    }
  },
  "nbformat": 4,
  "nbformat_minor": 0
}